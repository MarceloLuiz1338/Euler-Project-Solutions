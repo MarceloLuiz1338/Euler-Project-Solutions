{
 "cells": [
  {
   "cell_type": "markdown",
   "metadata": {},
   "source": [
    "## Problem:"
   ]
  },
  {
   "cell_type": "markdown",
   "metadata": {},
   "source": [
    "## A Hamming number is a positive number which has no prime factor larger than 5.\n",
    "So the first few Hamming numbers are 1, 2, 3, 4, 5, 6, 8, 9, 10, 12, 15.\n",
    "There are 1105 Hamming numbers not exceeding 10^8.\n",
    "\n",
    "We will call a positive number a generalised Hamming number of type n, if it has no prime factor larger than n.\n",
    "Hence the Hamming numbers are the generalised Hamming numbers of type 5.\n",
    "\n",
    "How many generalised Hamming numbers of type 100 are there which don't exceed 10^9?"
   ]
  },
  {
   "cell_type": "code",
   "execution_count": 1,
   "metadata": {},
   "outputs": [],
   "source": [
    "#creating a list of the primes numbers lower the 100\n",
    "primes=[]\n",
    "for a in range(100):\n",
    "    k=0\n",
    "    for b in range(1,a):\n",
    "        if a%b==0:\n",
    "            k+=1\n",
    "    if k==1:\n",
    "        primes.append(a)\n",
    "    \n",
    "        "
   ]
  },
  {
   "cell_type": "code",
   "execution_count": 2,
   "metadata": {},
   "outputs": [],
   "source": [
    "def reduce(k):\n",
    "    x=k\n",
    "    for p in primes:\n",
    "        while x%p==0:\n",
    "            x=x/p    \n",
    "    return x           \n",
    "        "
   ]
  },
  {
   "cell_type": "code",
   "execution_count": 8,
   "metadata": {},
   "outputs": [
    {
     "data": {
      "text/plain": [
       "2944728"
      ]
     },
     "execution_count": 8,
     "metadata": {},
     "output_type": "execute_result"
    }
   ],
   "source": [
    "ans=0\n",
    "for a in range(2,10**9):\n",
    "    if reduce(a)==1:\n",
    "        ans+=1    \n",
    "ans"
   ]
  },
  {
   "cell_type": "code",
   "execution_count": 7,
   "metadata": {},
   "outputs": [
    {
     "data": {
      "text/plain": [
       "765271"
      ]
     },
     "execution_count": 7,
     "metadata": {},
     "output_type": "execute_result"
    }
   ],
   "source": [
    "ans"
   ]
  },
  {
   "cell_type": "code",
   "execution_count": null,
   "metadata": {},
   "outputs": [],
   "source": []
  }
 ],
 "metadata": {
  "kernelspec": {
   "display_name": "Python 3",
   "language": "python",
   "name": "python3"
  },
  "language_info": {
   "codemirror_mode": {
    "name": "ipython",
    "version": 3
   },
   "file_extension": ".py",
   "mimetype": "text/x-python",
   "name": "python",
   "nbconvert_exporter": "python",
   "pygments_lexer": "ipython3",
   "version": "3.8.5"
  }
 },
 "nbformat": 4,
 "nbformat_minor": 4
}
