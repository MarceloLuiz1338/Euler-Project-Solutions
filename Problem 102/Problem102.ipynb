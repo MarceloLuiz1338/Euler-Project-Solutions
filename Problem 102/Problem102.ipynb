{
 "cells": [
  {
   "cell_type": "markdown",
   "metadata": {},
   "source": [
    "## Problem:"
   ]
  },
  {
   "cell_type": "markdown",
   "metadata": {},
   "source": [
    "### Three distinct points are plotted at random on a Cartesian plane, for which -1000 ≤ x, y ≤ 1000, such that a triangle is formed.\n",
    "\n",
    "Consider the following two triangles:\n",
    "\n",
    "A(-340,495), B(-153,-910), C(835,-947)\n",
    "\n",
    "X(-175,41), Y(-421,-714), Z(574,-645)\n",
    "\n",
    "It can be verified that triangle ABC contains the origin, whereas triangle XYZ does not.\n",
    "\n",
    "Using triangles.txt (right click and 'Save Link/Target As...'), a 27K text file containing the co-ordinates of one thousand \"random\" triangles, find the number of triangles for which the interior contains the origin.\n",
    "\n",
    "NOTE: The first two examples in the file represent the triangles in the example given above."
   ]
  },
  {
   "cell_type": "code",
   "execution_count": 70,
   "metadata": {},
   "outputs": [
    {
     "data": {
      "text/html": [
       "<div>\n",
       "<style scoped>\n",
       "    .dataframe tbody tr th:only-of-type {\n",
       "        vertical-align: middle;\n",
       "    }\n",
       "\n",
       "    .dataframe tbody tr th {\n",
       "        vertical-align: top;\n",
       "    }\n",
       "\n",
       "    .dataframe thead th {\n",
       "        text-align: right;\n",
       "    }\n",
       "</style>\n",
       "<table border=\"1\" class=\"dataframe\">\n",
       "  <thead>\n",
       "    <tr style=\"text-align: right;\">\n",
       "      <th></th>\n",
       "      <th>A1</th>\n",
       "      <th>A2</th>\n",
       "      <th>B1</th>\n",
       "      <th>B2</th>\n",
       "      <th>C1</th>\n",
       "      <th>C2</th>\n",
       "    </tr>\n",
       "  </thead>\n",
       "  <tbody>\n",
       "    <tr>\n",
       "      <th>0</th>\n",
       "      <td>-340</td>\n",
       "      <td>495</td>\n",
       "      <td>-153</td>\n",
       "      <td>-910</td>\n",
       "      <td>835</td>\n",
       "      <td>-947</td>\n",
       "    </tr>\n",
       "    <tr>\n",
       "      <th>1</th>\n",
       "      <td>-175</td>\n",
       "      <td>41</td>\n",
       "      <td>-421</td>\n",
       "      <td>-714</td>\n",
       "      <td>574</td>\n",
       "      <td>-645</td>\n",
       "    </tr>\n",
       "    <tr>\n",
       "      <th>2</th>\n",
       "      <td>-547</td>\n",
       "      <td>712</td>\n",
       "      <td>-352</td>\n",
       "      <td>579</td>\n",
       "      <td>951</td>\n",
       "      <td>-786</td>\n",
       "    </tr>\n",
       "    <tr>\n",
       "      <th>3</th>\n",
       "      <td>419</td>\n",
       "      <td>-864</td>\n",
       "      <td>-83</td>\n",
       "      <td>650</td>\n",
       "      <td>-399</td>\n",
       "      <td>171</td>\n",
       "    </tr>\n",
       "    <tr>\n",
       "      <th>4</th>\n",
       "      <td>-429</td>\n",
       "      <td>-89</td>\n",
       "      <td>-357</td>\n",
       "      <td>-930</td>\n",
       "      <td>296</td>\n",
       "      <td>-29</td>\n",
       "    </tr>\n",
       "    <tr>\n",
       "      <th>...</th>\n",
       "      <td>...</td>\n",
       "      <td>...</td>\n",
       "      <td>...</td>\n",
       "      <td>...</td>\n",
       "      <td>...</td>\n",
       "      <td>...</td>\n",
       "    </tr>\n",
       "    <tr>\n",
       "      <th>995</th>\n",
       "      <td>694</td>\n",
       "      <td>-119</td>\n",
       "      <td>973</td>\n",
       "      <td>-385</td>\n",
       "      <td>309</td>\n",
       "      <td>-760</td>\n",
       "    </tr>\n",
       "    <tr>\n",
       "      <th>996</th>\n",
       "      <td>777</td>\n",
       "      <td>-947</td>\n",
       "      <td>-57</td>\n",
       "      <td>990</td>\n",
       "      <td>74</td>\n",
       "      <td>19</td>\n",
       "    </tr>\n",
       "    <tr>\n",
       "      <th>997</th>\n",
       "      <td>971</td>\n",
       "      <td>626</td>\n",
       "      <td>-496</td>\n",
       "      <td>-781</td>\n",
       "      <td>-602</td>\n",
       "      <td>-239</td>\n",
       "    </tr>\n",
       "    <tr>\n",
       "      <th>998</th>\n",
       "      <td>-651</td>\n",
       "      <td>433</td>\n",
       "      <td>11</td>\n",
       "      <td>-339</td>\n",
       "      <td>939</td>\n",
       "      <td>294</td>\n",
       "    </tr>\n",
       "    <tr>\n",
       "      <th>999</th>\n",
       "      <td>-965</td>\n",
       "      <td>-728</td>\n",
       "      <td>560</td>\n",
       "      <td>569</td>\n",
       "      <td>-708</td>\n",
       "      <td>-247</td>\n",
       "    </tr>\n",
       "  </tbody>\n",
       "</table>\n",
       "<p>1000 rows × 6 columns</p>\n",
       "</div>"
      ],
      "text/plain": [
       "      A1   A2   B1   B2   C1   C2\n",
       "0   -340  495 -153 -910  835 -947\n",
       "1   -175   41 -421 -714  574 -645\n",
       "2   -547  712 -352  579  951 -786\n",
       "3    419 -864  -83  650 -399  171\n",
       "4   -429  -89 -357 -930  296  -29\n",
       "..   ...  ...  ...  ...  ...  ...\n",
       "995  694 -119  973 -385  309 -760\n",
       "996  777 -947  -57  990   74   19\n",
       "997  971  626 -496 -781 -602 -239\n",
       "998 -651  433   11 -339  939  294\n",
       "999 -965 -728  560  569 -708 -247\n",
       "\n",
       "[1000 rows x 6 columns]"
      ]
     },
     "execution_count": 70,
     "metadata": {},
     "output_type": "execute_result"
    }
   ],
   "source": [
    "import pandas as pd\n",
    "import numpy as np\n",
    "df=pd.read_csv('p102_triangles.txt', names=(['A1','A2','B1','B2','C1','C2']))\n",
    "df"
   ]
  },
  {
   "cell_type": "markdown",
   "metadata": {},
   "source": [
    "#### My idea here is that if a triangle contains the origin, then the area of the triangle could be broken as the sum of areas of the 3 triangles made by the origin and the sides of the triangle."
   ]
  },
  {
   "cell_type": "code",
   "execution_count": 80,
   "metadata": {},
   "outputs": [],
   "source": [
    "#defining the formula of the area of a triangle knowing its vertices\n",
    "def area(a1,a2,b1,b2,c1,c2):\n",
    "    return 0.5*abs(a1*b2+a2*c1+b1*c2-a1*c2-a2*b1-b2*c1)"
   ]
  },
  {
   "cell_type": "code",
   "execution_count": 83,
   "metadata": {},
   "outputs": [
    {
     "data": {
      "text/plain": [
       "228"
      ]
     },
     "execution_count": 83,
     "metadata": {},
     "output_type": "execute_result"
    }
   ],
   "source": [
    "#comparing the areas and counting the answer\n",
    "ans=0\n",
    "for k in range (len(df)):\n",
    "    area_tri=area(df['A1'][k],df['A2'][k],df['B1'][k],df['B2'][k],df['C1'][k],df['C2'][k])\n",
    "    area_ori=area(df['A1'][k],df['A2'][k],df['B1'][k],df['B2'][k],0,0)+area(df['B1'][k],df['B2'][k],df['C1'][k],df['C2'][k],0,0)+area(df['A1'][k],df['A2'][k],df['C1'][k],df['C2'][k],0,0)\n",
    "    if area_tri==area_ori:\n",
    "        ans+=1\n",
    "ans\n",
    "        \n",
    "    \n",
    "    "
   ]
  }
 ],
 "metadata": {
  "kernelspec": {
   "display_name": "Python 3",
   "language": "python",
   "name": "python3"
  },
  "language_info": {
   "codemirror_mode": {
    "name": "ipython",
    "version": 3
   },
   "file_extension": ".py",
   "mimetype": "text/x-python",
   "name": "python",
   "nbconvert_exporter": "python",
   "pygments_lexer": "ipython3",
   "version": "3.8.5"
  }
 },
 "nbformat": 4,
 "nbformat_minor": 4
}
