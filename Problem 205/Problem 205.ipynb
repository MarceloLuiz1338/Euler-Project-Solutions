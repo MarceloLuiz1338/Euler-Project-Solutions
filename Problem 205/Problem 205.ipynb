{
 "cells": [
  {
   "cell_type": "markdown",
   "metadata": {},
   "source": [
    "## Problem:"
   ]
  },
  {
   "cell_type": "markdown",
   "metadata": {},
   "source": [
    "### \n",
    "Peter has nine four-sided (pyramidal) dice, each with faces numbered 1, 2, 3, 4.\n",
    "Colin has six six-sided (cubic) dice, each with faces numbered 1, 2, 3, 4, 5, 6.\n",
    "\n",
    "Peter and Colin roll their dice and compare totals: the highest total wins. The result is a draw if the totals are equal.\n",
    "\n",
    "What is the probability that Pyramidal Pete beats Cubic Colin? Give your answer rounded to seven decimal places in the form 0.abcdefg"
   ]
  },
  {
   "cell_type": "code",
   "execution_count": 116,
   "metadata": {},
   "outputs": [],
   "source": [
    "Pete=list()\n",
    "for a in range(1,5):\n",
    "    for b in range(1,5):\n",
    "        for c in range(1,5):\n",
    "            for d in range(1,5):\n",
    "                for e in range(1,5):\n",
    "                    for f in range(1,5):\n",
    "                        for g in range(1,5):\n",
    "                            for h in range(1,5):\n",
    "                                for i in range(1,5):\n",
    "                                    Pete.append(a+b+c+d+e+f+g+h+i)\n",
    "                                   \n",
    "Colin=list()\n",
    "for a in range (1,7):\n",
    "    for b in range (1,7):\n",
    "        for c in range (1,7):\n",
    "            for d in range (1,7):\n",
    "                for e in range (1,7):\n",
    "                    for f in range (1,7):\n",
    "                        Colin.append(a+b+c+d+e+f)\n"
   ]
  },
  {
   "cell_type": "code",
   "execution_count": 118,
   "metadata": {},
   "outputs": [
    {
     "data": {
      "text/plain": [
       "0.5731441"
      ]
     },
     "execution_count": 118,
     "metadata": {},
     "output_type": "execute_result"
    }
   ],
   "source": [
    "#pete > x e colin =x\n",
    "ans=0\n",
    "ans=0\n",
    "for k in range(0,36):\n",
    "    k1=0\n",
    "    k2=0\n",
    "    \n",
    "    for x in range(len(Pete)):\n",
    "        if Pete[x]>k:\n",
    "            k1+=1\n",
    "    for y in range(len(Colin)):       \n",
    "        if Colin[y]==k:\n",
    "            k2+=1\n",
    "    ans+=k1*k2\n",
    "    \n",
    "    \n",
    "round(ans/((6**6)*(4**9)),7)    "
   ]
  }
 ],
 "metadata": {
  "kernelspec": {
   "display_name": "Python 3",
   "language": "python",
   "name": "python3"
  },
  "language_info": {
   "codemirror_mode": {
    "name": "ipython",
    "version": 3
   },
   "file_extension": ".py",
   "mimetype": "text/x-python",
   "name": "python",
   "nbconvert_exporter": "python",
   "pygments_lexer": "ipython3",
   "version": "3.8.5"
  }
 },
 "nbformat": 4,
 "nbformat_minor": 4
}
