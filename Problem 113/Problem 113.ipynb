{
 "cells": [
  {
   "cell_type": "markdown",
   "metadata": {},
   "source": [
    "## Problem"
   ]
  },
  {
   "cell_type": "markdown",
   "metadata": {},
   "source": [
    "### \n",
    "Working from left-to-right if no digit is exceeded by the digit to its left it is called an increasing number; for example, 134468.\n",
    "\n",
    "Similarly if no digit is exceeded by the digit to its right it is called a decreasing number; for example, 66420.\n",
    "\n",
    "We shall call a positive integer that is neither increasing nor decreasing a \"bouncy\" number; for example, 155349.\n",
    "\n",
    "As n increases, the proportion of bouncy numbers below n increases such that there are only 12951 numbers below one-million that are not bouncy and only 277032 non-bouncy numbers below 1010.\n",
    "\n",
    "How many numbers below a googol (10^100) are not bouncy?"
   ]
  },
  {
   "cell_type": "markdown",
   "metadata": {},
   "source": [
    "### Defining fatorial and binomial functions."
   ]
  },
  {
   "cell_type": "code",
   "execution_count": 5,
   "metadata": {},
   "outputs": [],
   "source": [
    "\n",
    "def fatorial(n):\n",
    "    k=1\n",
    "    c=n\n",
    "    while c>1:\n",
    "        k*=c\n",
    "        c-=1\n",
    "    return k\n",
    "\n",
    "\n",
    "def binomial(a,b):\n",
    "    return fatorial(a)/(fatorial(b)*fatorial(a-b))"
   ]
  },
  {
   "cell_type": "markdown",
   "metadata": {},
   "source": [
    " I will count the increasing and decreainsg numbers below 10^100. The idea is that a increasing number can be represented by a sequence of 9 'I's and 100 'M's. The sequence starts with a 0 and an I indicates that the next number of the sequence will be in increased by 1, wilhe a P indicates that the current number will be printed in the representation. For exemple:\n",
    "IIIPPIPI represents the number 334, since we started with 0, increased 3 times, printed 2 times and then increased one more time and printed one more digit."
   ]
  },
  {
   "cell_type": "code",
   "execution_count": 35,
   "metadata": {},
   "outputs": [],
   "source": [
    "#so the # of increasing numbers is\n",
    "increasing= binomial(109,9)-1 #removing the 00...00 number"
   ]
  },
  {
   "cell_type": "markdown",
   "metadata": {},
   "source": [
    "For the decreasing numbers, we can use the same ideia. We will starts with a 9, make a sequence of Ps and Ds (decrease). The difference is that a decreasing number can start with a sequence of zeros and then increase to a certain number before if starts decrease. For exemple 00985 is a decreasing number and won't be counted with this method. The solution is to count the decreasing numbers with 100 digits, with 99 digits, etc., and sum them up. So for exemple a 60 digits dereasing number will be counted as a number started with 40 zeros. So we get:"
   ]
  },
  {
   "cell_type": "code",
   "execution_count": 38,
   "metadata": {},
   "outputs": [],
   "source": [
    "decreasing=0\n",
    "for k in range(10,110):\n",
    "    decreasing+=binomial(k,9)-1 #removing the 00...00 number each time   "
   ]
  },
  {
   "cell_type": "markdown",
   "metadata": {},
   "source": [
    "We also need to remove the doubles. For every 1<n<100, we can have a number of lenght 100 made of a simples digit (different of 0). Se we get:"
   ]
  },
  {
   "cell_type": "code",
   "execution_count": 40,
   "metadata": {},
   "outputs": [],
   "source": [
    "doubles=9*100 "
   ]
  },
  {
   "cell_type": "markdown",
   "metadata": {},
   "source": [
    "So we get:"
   ]
  },
  {
   "cell_type": "code",
   "execution_count": 41,
   "metadata": {},
   "outputs": [
    {
     "data": {
      "text/plain": [
       "51161058134250.0"
      ]
     },
     "execution_count": 41,
     "metadata": {},
     "output_type": "execute_result"
    }
   ],
   "source": [
    "not_bouncing=increasing + decreasing - doubles\n",
    "not_bouncing "
   ]
  }
 ],
 "metadata": {
  "kernelspec": {
   "display_name": "Python 3",
   "language": "python",
   "name": "python3"
  },
  "language_info": {
   "codemirror_mode": {
    "name": "ipython",
    "version": 3
   },
   "file_extension": ".py",
   "mimetype": "text/x-python",
   "name": "python",
   "nbconvert_exporter": "python",
   "pygments_lexer": "ipython3",
   "version": "3.8.5"
  }
 },
 "nbformat": 4,
 "nbformat_minor": 4
}
